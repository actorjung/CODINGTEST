{
 "cells": [
  {
   "cell_type": "code",
   "execution_count": 1,
   "metadata": {},
   "outputs": [
    {
     "name": "stdout",
     "output_type": "stream",
     "text": [
      "8\n",
      "31\n",
      "15\n"
     ]
    }
   ],
   "source": [
    "def solution(n,m,A,Q):\n",
    "    for q in Q:\n",
    "        if q[0] == 1:\n",
    "            add_array(A,q[1],q[2],q[3],q[4],q[5])\n",
    "        else:\n",
    "            print(get_sum(A,q[1],q[2],q[3],q[4]))\n",
    "\n",
    "def add_array(A,i1,j1,i2,j2,k):\n",
    "    for i in range(i1,i2+1):\n",
    "        for j in range(j1,j2+1):\n",
    "            A[i][j] += k\n",
    "\n",
    "def get_sum(A,i1,j1,i2,j2):\n",
    "    ret = 0\n",
    "    for i in range(i1,i2+1):\n",
    "        for j in range(j1,j2+1):\n",
    "            ret += A[i][j]\n",
    "    return ret\n",
    "\n",
    "n,m = map(int,input().split())\n",
    "A = list(list(map(int,input().split()))for _ in range(n))\n",
    "Q = list(list(map(int,input().split()))for _ in range(m))\n",
    "solution(n,m,A,Q)"
   ]
  },
  {
   "cell_type": "code",
   "execution_count": null,
   "metadata": {},
   "outputs": [],
   "source": []
  }
 ],
 "metadata": {
  "kernelspec": {
   "display_name": "Python 3",
   "language": "python",
   "name": "python3"
  },
  "language_info": {
   "codemirror_mode": {
    "name": "ipython",
    "version": 3
   },
   "file_extension": ".py",
   "mimetype": "text/x-python",
   "name": "python",
   "nbconvert_exporter": "python",
   "pygments_lexer": "ipython3",
   "version": "3.11.4"
  },
  "orig_nbformat": 4
 },
 "nbformat": 4,
 "nbformat_minor": 2
}
