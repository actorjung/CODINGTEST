{
 "cells": [
  {
   "cell_type": "code",
   "execution_count": 2,
   "metadata": {},
   "outputs": [
    {
     "name": "stdout",
     "output_type": "stream",
     "text": [
      "3\n",
      "6\n",
      "7\n"
     ]
    }
   ],
   "source": [
    "def solution(n,m,A,Q):\n",
    "    for q in Q:\n",
    "        if q[0] == 1:\n",
    "            do_add_array(A,q[1],q[2],q[3])\n",
    "        else :\n",
    "            print(sum(A[q[1]:q[2]+1]))\n",
    "\n",
    "def do_add_array(A,i,j,k):\n",
    "    for p in range(i,j+1):\n",
    "        A[p] += k\n",
    "\n",
    "n,m = map(int,input().split())\n",
    "A = list(map(int,input().split()))\n",
    "Q = list(list(map(int,input().split()))for _ in range(m))\n",
    "\n",
    "solution(n,m,A,Q)"
   ]
  },
  {
   "cell_type": "code",
   "execution_count": null,
   "metadata": {},
   "outputs": [],
   "source": []
  }
 ],
 "metadata": {
  "kernelspec": {
   "display_name": "Python 3",
   "language": "python",
   "name": "python3"
  },
  "language_info": {
   "codemirror_mode": {
    "name": "ipython",
    "version": 3
   },
   "file_extension": ".py",
   "mimetype": "text/x-python",
   "name": "python",
   "nbconvert_exporter": "python",
   "pygments_lexer": "ipython3",
   "version": "3.11.4"
  },
  "orig_nbformat": 4
 },
 "nbformat": 4,
 "nbformat_minor": 2
}
