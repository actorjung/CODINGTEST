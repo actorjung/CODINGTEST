{
 "cells": [
  {
   "cell_type": "code",
   "execution_count": 6,
   "metadata": {},
   "outputs": [
    {
     "name": "stdout",
     "output_type": "stream",
     "text": [
      "1\n"
     ]
    }
   ],
   "source": [
    "def solution(board, aloc):\n",
    "    # 상하좌우 변화량\n",
    "    dd = [(-1, 0), (1, 0), (0, -1), (0, 1)]\n",
    "\n",
    "    for dr, dc in dd:\n",
    "        r,c = aloc[0] + dr, aloc[1] + dc\n",
    "        if in_range(r,c) and board[r][c] == 1:\n",
    "            return 1\n",
    "        \n",
    "    return 0\n",
    "\n",
    "def in_range(r,c):\n",
    "    return 0 <= r <=4 and 0 <= c <=4\n",
    " \n",
    "board = list(list(map(int,input().split())) for _ in range(5))\n",
    "aloc = list(map(int,input().split()))\n",
    "\n",
    "print(solution(board,aloc))"
   ]
  },
  {
   "cell_type": "code",
   "execution_count": null,
   "metadata": {},
   "outputs": [],
   "source": []
  }
 ],
 "metadata": {
  "kernelspec": {
   "display_name": "Python 3",
   "language": "python",
   "name": "python3"
  },
  "language_info": {
   "codemirror_mode": {
    "name": "ipython",
    "version": 3
   },
   "file_extension": ".py",
   "mimetype": "text/x-python",
   "name": "python",
   "nbconvert_exporter": "python",
   "pygments_lexer": "ipython3",
   "version": "3.11.4"
  },
  "orig_nbformat": 4
 },
 "nbformat": 4,
 "nbformat_minor": 2
}
