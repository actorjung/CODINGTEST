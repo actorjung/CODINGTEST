{
 "cells": [
  {
   "cell_type": "code",
   "execution_count": 2,
   "metadata": {},
   "outputs": [
    {
     "name": "stdout",
     "output_type": "stream",
     "text": [
      "aabbccd\n"
     ]
    }
   ],
   "source": [
    "# .sort()함수는 배열에만 해당\n",
    "# .sorted() -> 문자열을 정렬하여 배열로 저장 \n",
    "# .join() -> 배열을 문자열로 저장\n",
    "def solution(A):\n",
    "    T = sorted(A)\n",
    "    B = ''.join(T)\n",
    "    return B\n",
    "\n",
    "A = input()\n",
    "print(solution(A))"
   ]
  },
  {
   "cell_type": "code",
   "execution_count": null,
   "metadata": {},
   "outputs": [],
   "source": []
  }
 ],
 "metadata": {
  "kernelspec": {
   "display_name": "Python 3",
   "language": "python",
   "name": "python3"
  },
  "language_info": {
   "codemirror_mode": {
    "name": "ipython",
    "version": 3
   },
   "file_extension": ".py",
   "mimetype": "text/x-python",
   "name": "python",
   "nbconvert_exporter": "python",
   "pygments_lexer": "ipython3",
   "version": "3.11.4"
  },
  "orig_nbformat": 4
 },
 "nbformat": 4,
 "nbformat_minor": 2
}
