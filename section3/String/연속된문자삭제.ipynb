{
 "cells": [
  {
   "cell_type": "code",
   "execution_count": 2,
   "metadata": {},
   "outputs": [
    {
     "name": "stdout",
     "output_type": "stream",
     "text": [
      "ZZabBa\n"
     ]
    }
   ],
   "source": [
    "def solution(S):\n",
    "    T = ''\n",
    "    i = 0\n",
    "    while i < len(S):\n",
    "        if S[i] != 'a' and S[i] !='A':\n",
    "            T += S[i]\n",
    "            i += 1\n",
    "            continue\n",
    "\n",
    "        j = i+1\n",
    "        while j < len(S):\n",
    "            if S[j] != 'a' and S[j] != 'A':\n",
    "                break\n",
    "            j+=1\n",
    "\n",
    "        if j - i ==1:\n",
    "            T+=S[i]\n",
    "        else :\n",
    "            T += S[i].lower()\n",
    "        i = j\n",
    "            \n",
    "    return T\n",
    "\n",
    "S = input()\n",
    "print(solution(S))"
   ]
  },
  {
   "cell_type": "code",
   "execution_count": 3,
   "metadata": {},
   "outputs": [
    {
     "name": "stdout",
     "output_type": "stream",
     "text": [
      "zaba\n"
     ]
    }
   ],
   "source": [
    "#대소문자구분없이 임의의 연속된 문자를 제거\n",
    "def solution(S):\n",
    "    T = ''\n",
    "    i = 0\n",
    "    while i < len(S):\n",
    "        #if S[i] != 'a' and S[i] !='A':\n",
    "        #    T += S[i]\n",
    "        #    i += 1\n",
    "        #    continue\n",
    "        j = i+1\n",
    "        while j < len(S):\n",
    "            if S[i].lower() != S[j].lower():\n",
    "                break\n",
    "            j+=1\n",
    "\n",
    "        if j - i == 1:\n",
    "            T+=S[i]\n",
    "        else :\n",
    "            T += S[i].lower()\n",
    "        i = j\n",
    "            \n",
    "    return T\n",
    "\n",
    "S = input()\n",
    "print(solution(S))"
   ]
  },
  {
   "cell_type": "code",
   "execution_count": null,
   "metadata": {},
   "outputs": [],
   "source": []
  }
 ],
 "metadata": {
  "kernelspec": {
   "display_name": "Python 3",
   "language": "python",
   "name": "python3"
  },
  "language_info": {
   "codemirror_mode": {
    "name": "ipython",
    "version": 3
   },
   "file_extension": ".py",
   "mimetype": "text/x-python",
   "name": "python",
   "nbconvert_exporter": "python",
   "pygments_lexer": "ipython3",
   "version": "3.11.4"
  },
  "orig_nbformat": 4
 },
 "nbformat": 4,
 "nbformat_minor": 2
}
