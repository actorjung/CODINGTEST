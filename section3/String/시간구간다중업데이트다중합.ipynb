{
 "cells": [
  {
   "cell_type": "code",
   "execution_count": 1,
   "metadata": {},
   "outputs": [
    {
     "name": "stdout",
     "output_type": "stream",
     "text": [
      "1\n",
      "1\n"
     ]
    }
   ],
   "source": [
    "# 시간이 들어오면 단위를 통일할 생각을 먼저 하자! \n",
    "def solution(n,A):\n",
    "    T = [0]*3600\n",
    "    answer = []\n",
    "    for a in A:\n",
    "        #숫자가 아닌 문자열 1임을 조심\n",
    "        if a[0] == '1':\n",
    "            add(T,time(a[1]),time(a[2]))\n",
    "        else:\n",
    "            answer.append(T[time(a[1])])\n",
    "    return answer\n",
    "\n",
    "def time(t):\n",
    "    return int(t[:2])*60 + int(t[3:]) \n",
    "\n",
    "def add(T, i ,j):\n",
    "    for p in range(i,j):\n",
    "        T[p] += 1\n",
    "\n",
    "n = int(input())\n",
    "A = list(list(input().split())for _ in range(n))\n",
    "\n",
    "B = solution(n,A)\n",
    "\n",
    "for b in B:\n",
    "    print(b)\n",
    "\n"
   ]
  },
  {
   "cell_type": "code",
   "execution_count": null,
   "metadata": {},
   "outputs": [],
   "source": []
  }
 ],
 "metadata": {
  "kernelspec": {
   "display_name": "Python 3",
   "language": "python",
   "name": "python3"
  },
  "language_info": {
   "codemirror_mode": {
    "name": "ipython",
    "version": 3
   },
   "file_extension": ".py",
   "mimetype": "text/x-python",
   "name": "python",
   "nbconvert_exporter": "python",
   "pygments_lexer": "ipython3",
   "version": "3.11.4"
  },
  "orig_nbformat": 4
 },
 "nbformat": 4,
 "nbformat_minor": 2
}
