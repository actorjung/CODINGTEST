{
 "cells": [
  {
   "cell_type": "code",
   "execution_count": 2,
   "metadata": {},
   "outputs": [
    {
     "name": "stdout",
     "output_type": "stream",
     "text": [
      "2100\n"
     ]
    }
   ],
   "source": [
    "def solution(n,A,m,B):\n",
    "    D = {}\n",
    "    for name, cost in A:\n",
    "        D[name] = int(cost)\n",
    "    \n",
    "    answer = 0\n",
    "    for name in B:\n",
    "        answer += D[name]\n",
    "\n",
    "    return answer\n",
    "\n",
    "n,m = map(int,input().split())\n",
    "A = list(list(input().split()) for _ in range(n))\n",
    "B = list(input().split())\n",
    "print(solution(n,A,m,B))"
   ]
  },
  {
   "cell_type": "code",
   "execution_count": null,
   "metadata": {},
   "outputs": [],
   "source": []
  }
 ],
 "metadata": {
  "kernelspec": {
   "display_name": "Python 3",
   "language": "python",
   "name": "python3"
  },
  "language_info": {
   "codemirror_mode": {
    "name": "ipython",
    "version": 3
   },
   "file_extension": ".py",
   "mimetype": "text/x-python",
   "name": "python",
   "nbconvert_exporter": "python",
   "pygments_lexer": "ipython3",
   "version": "3.11.4"
  },
  "orig_nbformat": 4
 },
 "nbformat": 4,
 "nbformat_minor": 2
}
