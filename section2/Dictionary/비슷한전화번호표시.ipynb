{
 "cells": [
  {
   "cell_type": "code",
   "execution_count": 8,
   "metadata": {},
   "outputs": [
    {
     "name": "stdout",
     "output_type": "stream",
     "text": [
      "4\n"
     ]
    }
   ],
   "source": [
    "def solution(A,B):\n",
    "    D = {}\n",
    "    for a in A:\n",
    "        if a in D:\n",
    "            D[a] += 1\n",
    "        else:\n",
    "            D[a] = 1\n",
    "\n",
    "    answer = 0 \n",
    "\n",
    "    for name, value in D.items():\n",
    "        if (B in name) and (B != name):\n",
    "            answer += value\n",
    "\n",
    "    return answer\n",
    "\n",
    "A = input().split()\n",
    "B = input()\n",
    "print(solution(A,B))\n",
    "\n"
   ]
  },
  {
   "cell_type": "code",
   "execution_count": null,
   "metadata": {},
   "outputs": [],
   "source": []
  }
 ],
 "metadata": {
  "kernelspec": {
   "display_name": "Python 3",
   "language": "python",
   "name": "python3"
  },
  "language_info": {
   "codemirror_mode": {
    "name": "ipython",
    "version": 3
   },
   "file_extension": ".py",
   "mimetype": "text/x-python",
   "name": "python",
   "nbconvert_exporter": "python",
   "pygments_lexer": "ipython3",
   "version": "3.11.4"
  },
  "orig_nbformat": 4
 },
 "nbformat": 4,
 "nbformat_minor": 2
}
