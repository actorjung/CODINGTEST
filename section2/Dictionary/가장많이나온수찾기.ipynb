{
 "cells": [
  {
   "cell_type": "code",
   "execution_count": 4,
   "metadata": {},
   "outputs": [
    {
     "name": "stdout",
     "output_type": "stream",
     "text": [
      "123"
     ]
    }
   ],
   "source": [
    "def solution(n,A):\n",
    "    D = {}\n",
    "    mx = 0\n",
    "    for a in A :\n",
    "        if a in D:\n",
    "            D[a] += 1\n",
    "        else :\n",
    "            D[a] = 1\n",
    "        mx = max(mx,D[a])\n",
    "    \n",
    "    answer = []\n",
    "    for item, cnt in D.items():\n",
    "        if cnt == mx:\n",
    "            answer.append(item)\n",
    "    \n",
    "    answer.sort()\n",
    "    return answer\n",
    "\n",
    "# 정수를 문자로 받고 배열로 받을려면 list(map(int,input().split()))\n",
    "# 그냥 문자열이면\n",
    "n = int(input())\n",
    "A = list(map(int,input().split()))\n",
    "\n",
    "B = solution(n,A)\n",
    "\n",
    "# 결과를 공백으로 구분하여 출력하기 위해 end=' ' 옵션을 사용합니다.\n",
    "for b in B:\n",
    "    print(b, end = ' ')"
   ]
  },
  {
   "cell_type": "code",
   "execution_count": null,
   "metadata": {},
   "outputs": [],
   "source": []
  }
 ],
 "metadata": {
  "kernelspec": {
   "display_name": "Python 3",
   "language": "python",
   "name": "python3"
  },
  "language_info": {
   "codemirror_mode": {
    "name": "ipython",
    "version": 3
   },
   "file_extension": ".py",
   "mimetype": "text/x-python",
   "name": "python",
   "nbconvert_exporter": "python",
   "pygments_lexer": "ipython3",
   "version": "3.11.4"
  },
  "orig_nbformat": 4
 },
 "nbformat": 4,
 "nbformat_minor": 2
}
