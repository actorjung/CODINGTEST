{
 "cells": [
  {
   "cell_type": "code",
   "execution_count": 1,
   "metadata": {},
   "outputs": [
    {
     "name": "stdout",
     "output_type": "stream",
     "text": [
      "aaa 3\n",
      "bbb 1\n",
      "ccc 2\n"
     ]
    }
   ],
   "source": [
    "def solution(S):\n",
    "    D = {}\n",
    "    for s in S.split():\n",
    "        if s in D:\n",
    "            D[s] += 1\n",
    "        else:\n",
    "            D[s] = 1\n",
    "    answer = list(D.items())\n",
    "    answer.sort(key = lambda x: x[0])\n",
    "    \n",
    "    return answer \n",
    "\n",
    "S = input()\n",
    "A = solution(S)\n",
    "for name, value in A:\n",
    "    print(name,value)\n"
   ]
  },
  {
   "cell_type": "code",
   "execution_count": null,
   "metadata": {},
   "outputs": [],
   "source": []
  }
 ],
 "metadata": {
  "kernelspec": {
   "display_name": "Python 3",
   "language": "python",
   "name": "python3"
  },
  "language_info": {
   "codemirror_mode": {
    "name": "ipython",
    "version": 3
   },
   "file_extension": ".py",
   "mimetype": "text/x-python",
   "name": "python",
   "nbconvert_exporter": "python",
   "pygments_lexer": "ipython3",
   "version": "3.11.4"
  },
  "orig_nbformat": 4
 },
 "nbformat": 4,
 "nbformat_minor": 2
}
