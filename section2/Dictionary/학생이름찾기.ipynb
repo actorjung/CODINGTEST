{
 "cells": [
  {
   "cell_type": "code",
   "execution_count": 2,
   "metadata": {},
   "outputs": [
    {
     "name": "stdout",
     "output_type": "stream",
     "text": [
      "bbb\n",
      "ccc\n",
      "ffff\n"
     ]
    }
   ],
   "source": [
    "def solution(A,B):\n",
    "    D = {}\n",
    "    for b in B:\n",
    "        if b in D:\n",
    "            D[b] += 1\n",
    "        else:\n",
    "            D[b] = 1\n",
    "    \n",
    "    answer = []\n",
    "\n",
    "    for a in A:\n",
    "        if a not in D:\n",
    "            answer.append(a)\n",
    "    \n",
    "    answer.sort()\n",
    "\n",
    "    return answer\n",
    "\n",
    "A = list(input().split())\n",
    "B = list(input().split())\n",
    "C = solution(A,B)\n",
    "\n",
    "for c in C:\n",
    "    print(c)\n",
    "\n"
   ]
  },
  {
   "cell_type": "code",
   "execution_count": null,
   "metadata": {},
   "outputs": [],
   "source": []
  }
 ],
 "metadata": {
  "kernelspec": {
   "display_name": "Python 3",
   "language": "python",
   "name": "python3"
  },
  "language_info": {
   "codemirror_mode": {
    "name": "ipython",
    "version": 3
   },
   "file_extension": ".py",
   "mimetype": "text/x-python",
   "name": "python",
   "nbconvert_exporter": "python",
   "pygments_lexer": "ipython3",
   "version": "3.11.4"
  },
  "orig_nbformat": 4
 },
 "nbformat": 4,
 "nbformat_minor": 2
}
