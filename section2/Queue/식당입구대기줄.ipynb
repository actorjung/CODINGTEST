{
 "cells": [
  {
   "cell_type": "code",
   "execution_count": 1,
   "metadata": {},
   "outputs": [
    {
     "name": "stdout",
     "output_type": "stream",
     "text": [
      "0 0\n"
     ]
    }
   ],
   "source": [
    "from collections import deque\n",
    "\n",
    "def solution(n,A):\n",
    "    # 대기하는 학생 수의 최댓값, 이때 맨뒤에 대기중인 학생 번호\n",
    "    answer = [0,0]\n",
    "\n",
    "    q = deque()\n",
    "\n",
    "    for info in A:\n",
    "        if info[0] == 1:\n",
    "            q.append(info[1])\n",
    "            if answer[0] < len(q) or \\\n",
    "                (answer[0] == len(q) and info[1] < answer[1]):\n",
    "                answer = [len(q),info[1]]\n",
    "        else :\n",
    "            q.popleft()\n",
    "    \n",
    "    return answer\n",
    "\n",
    "n = int(input())\n",
    "A = list(list(map(int,input().split())) for _ in range(n))\n",
    "\n",
    "B = solution(n,A)\n",
    "print(B[0],B[1])\n",
    "\n",
    "\n"
   ]
  },
  {
   "cell_type": "code",
   "execution_count": null,
   "metadata": {},
   "outputs": [],
   "source": []
  }
 ],
 "metadata": {
  "kernelspec": {
   "display_name": "Python 3",
   "language": "python",
   "name": "python3"
  },
  "language_info": {
   "codemirror_mode": {
    "name": "ipython",
    "version": 3
   },
   "file_extension": ".py",
   "mimetype": "text/x-python",
   "name": "python",
   "nbconvert_exporter": "python",
   "pygments_lexer": "ipython3",
   "version": "3.11.4"
  },
  "orig_nbformat": 4
 },
 "nbformat": 4,
 "nbformat_minor": 2
}
