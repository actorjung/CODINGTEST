{
 "cells": [
  {
   "cell_type": "code",
   "execution_count": 1,
   "metadata": {},
   "outputs": [
    {
     "ename": "TypeError",
     "evalue": "'map' object is not subscriptable",
     "output_type": "error",
     "traceback": [
      "\u001b[0;31m---------------------------------------------------------------------------\u001b[0m",
      "\u001b[0;31mTypeError\u001b[0m                                 Traceback (most recent call last)",
      "\u001b[1;32m/Users/woosung/Study/codingtest/section2/식당메뉴.ipynb 셀 1\u001b[0m line \u001b[0;36m3\n\u001b[1;32m     <a href='vscode-notebook-cell:/Users/woosung/Study/codingtest/section2/%EC%8B%9D%EB%8B%B9%EB%A9%94%EB%89%B4.ipynb#W0sZmlsZQ%3D%3D?line=28'>29</a>\u001b[0m n \u001b[39m=\u001b[39m \u001b[39mint\u001b[39m(\u001b[39minput\u001b[39m())\n\u001b[1;32m     <a href='vscode-notebook-cell:/Users/woosung/Study/codingtest/section2/%EC%8B%9D%EB%8B%B9%EB%A9%94%EB%89%B4.ipynb#W0sZmlsZQ%3D%3D?line=29'>30</a>\u001b[0m A \u001b[39m=\u001b[39m \u001b[39mlist\u001b[39m(\u001b[39mlist\u001b[39m(\u001b[39mmap\u001b[39m(\u001b[39mint\u001b[39m,\u001b[39minput\u001b[39m()\u001b[39m.\u001b[39msplit()) \u001b[39mfor\u001b[39;00m _ \u001b[39min\u001b[39;00m \u001b[39mrange\u001b[39m(n)))\n\u001b[0;32m---> <a href='vscode-notebook-cell:/Users/woosung/Study/codingtest/section2/%EC%8B%9D%EB%8B%B9%EB%A9%94%EB%89%B4.ipynb#W0sZmlsZQ%3D%3D?line=31'>32</a>\u001b[0m B \u001b[39m=\u001b[39m solution(n,A)\n\u001b[1;32m     <a href='vscode-notebook-cell:/Users/woosung/Study/codingtest/section2/%EC%8B%9D%EB%8B%B9%EB%A9%94%EB%89%B4.ipynb#W0sZmlsZQ%3D%3D?line=33'>34</a>\u001b[0m \u001b[39mfor\u001b[39;00m b \u001b[39min\u001b[39;00m B:\n\u001b[1;32m     <a href='vscode-notebook-cell:/Users/woosung/Study/codingtest/section2/%EC%8B%9D%EB%8B%B9%EB%A9%94%EB%89%B4.ipynb#W0sZmlsZQ%3D%3D?line=34'>35</a>\u001b[0m     \u001b[39mif\u001b[39;00m \u001b[39mlen\u001b[39m(b) \u001b[39m==\u001b[39m \u001b[39m0\u001b[39m:\n",
      "\u001b[1;32m/Users/woosung/Study/codingtest/section2/식당메뉴.ipynb 셀 1\u001b[0m line \u001b[0;36m1\n\u001b[1;32m      <a href='vscode-notebook-cell:/Users/woosung/Study/codingtest/section2/%EC%8B%9D%EB%8B%B9%EB%A9%94%EB%89%B4.ipynb#W0sZmlsZQ%3D%3D?line=6'>7</a>\u001b[0m q \u001b[39m=\u001b[39m deque()\n\u001b[1;32m      <a href='vscode-notebook-cell:/Users/woosung/Study/codingtest/section2/%EC%8B%9D%EB%8B%B9%EB%A9%94%EB%89%B4.ipynb#W0sZmlsZQ%3D%3D?line=8'>9</a>\u001b[0m \u001b[39mfor\u001b[39;00m info \u001b[39min\u001b[39;00m A:\n\u001b[0;32m---> <a href='vscode-notebook-cell:/Users/woosung/Study/codingtest/section2/%EC%8B%9D%EB%8B%B9%EB%A9%94%EB%89%B4.ipynb#W0sZmlsZQ%3D%3D?line=9'>10</a>\u001b[0m     \u001b[39mif\u001b[39;00m info[\u001b[39m0\u001b[39;49m] \u001b[39m==\u001b[39m \u001b[39m1\u001b[39m:\n\u001b[1;32m     <a href='vscode-notebook-cell:/Users/woosung/Study/codingtest/section2/%EC%8B%9D%EB%8B%B9%EB%A9%94%EB%89%B4.ipynb#W0sZmlsZQ%3D%3D?line=10'>11</a>\u001b[0m         q\u001b[39m.\u001b[39mappend((info[\u001b[39m1\u001b[39m],info[\u001b[39m2\u001b[39m]))\n\u001b[1;32m     <a href='vscode-notebook-cell:/Users/woosung/Study/codingtest/section2/%EC%8B%9D%EB%8B%B9%EB%A9%94%EB%89%B4.ipynb#W0sZmlsZQ%3D%3D?line=12'>13</a>\u001b[0m     \u001b[39melse\u001b[39;00m :\n",
      "\u001b[0;31mTypeError\u001b[0m: 'map' object is not subscriptable"
     ]
    }
   ],
   "source": [
    "from collections import deque\n",
    "\n",
    "def solution(n,A):\n",
    "    #[0]:좋아하는 메뉴 먹은사람,[1]:싫어하는 메뉴 먹은 사람 [2]: 못먹은 사람\n",
    "    answer = [[]for _ in range(3)]\n",
    "\n",
    "    q = deque()\n",
    "\n",
    "    for info in A:\n",
    "        if info[0] == 1:\n",
    "            q.append((info[1],info[2]))\n",
    "\n",
    "        else :\n",
    "            a,b = q.popleft()\n",
    "            if b == info[1]:\n",
    "                answer[0].append(a)\n",
    "            else :\n",
    "                answer[1].append(a)\n",
    "\n",
    "    while len(q) > 0:\n",
    "        a,b = q.popleft()\n",
    "        answer[2].append(a)\n",
    "    \n",
    "    for i in range(3):\n",
    "        answer[i].sort()\n",
    "\n",
    "    return answer\n",
    "\n",
    "n = int(input())\n",
    "A = list(list(map(int, input().split())) for _ in range(n))\n",
    "\n",
    "B = solution(n,A)\n",
    "\n",
    "for b in B:\n",
    "    if len(b) == 0:\n",
    "        print(\"None\")\n",
    "    else :\n",
    "        for x in b:\n",
    "            print(x, end=' ')\n",
    "        print()\n"
   ]
  },
  {
   "cell_type": "code",
   "execution_count": null,
   "metadata": {},
   "outputs": [],
   "source": []
  }
 ],
 "metadata": {
  "kernelspec": {
   "display_name": "Python 3",
   "language": "python",
   "name": "python3"
  },
  "language_info": {
   "codemirror_mode": {
    "name": "ipython",
    "version": 3
   },
   "file_extension": ".py",
   "mimetype": "text/x-python",
   "name": "python",
   "nbconvert_exporter": "python",
   "pygments_lexer": "ipython3",
   "version": "3.11.4"
  },
  "orig_nbformat": 4
 },
 "nbformat": 4,
 "nbformat_minor": 2
}
