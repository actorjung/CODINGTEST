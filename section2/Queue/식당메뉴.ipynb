{
 "cells": [
  {
   "cell_type": "code",
   "execution_count": 2,
   "metadata": {},
   "outputs": [
    {
     "name": "stdout",
     "output_type": "stream",
     "text": [
      "2 3 \n",
      "1 \n",
      "None\n"
     ]
    }
   ],
   "source": [
    "from collections import deque\n",
    "\n",
    "def solution(n,A):\n",
    "    #[0]:좋아하는 메뉴 먹은사람,[1]:싫어하는 메뉴 먹은 사람 [2]: 못먹은 사람\n",
    "    answer = [[]for _ in range(3)]\n",
    "\n",
    "    q = deque()\n",
    "\n",
    "    for info in A:\n",
    "        if info[0] == 1:\n",
    "            q.append((info[1],info[2]))\n",
    "\n",
    "        else :\n",
    "            a,b = q.popleft()\n",
    "            if b == info[1]:\n",
    "                answer[0].append(a)\n",
    "            else :\n",
    "                answer[1].append(a)\n",
    "\n",
    "    while len(q) > 0:\n",
    "        a,b = q.popleft()\n",
    "        answer[2].append(a)\n",
    "    \n",
    "    for i in range(3):\n",
    "        answer[i].sort()\n",
    "\n",
    "    return answer\n",
    "\n",
    "n = int(input())\n",
    "A = list(list(map(int, input().split())) for _ in range(n))\n",
    "\n",
    "B = solution(n,A)\n",
    "\n",
    "for b in B:\n",
    "    if len(b) == 0:\n",
    "        print(\"None\")\n",
    "    else :\n",
    "        for x in b:\n",
    "            print(x, end=' ')\n",
    "        print()\n"
   ]
  },
  {
   "cell_type": "code",
   "execution_count": null,
   "metadata": {},
   "outputs": [],
   "source": []
  }
 ],
 "metadata": {
  "kernelspec": {
   "display_name": "Python 3",
   "language": "python",
   "name": "python3"
  },
  "language_info": {
   "codemirror_mode": {
    "name": "ipython",
    "version": 3
   },
   "file_extension": ".py",
   "mimetype": "text/x-python",
   "name": "python",
   "nbconvert_exporter": "python",
   "pygments_lexer": "ipython3",
   "version": "3.11.4"
  },
  "orig_nbformat": 4
 },
 "nbformat": 4,
 "nbformat_minor": 2
}
