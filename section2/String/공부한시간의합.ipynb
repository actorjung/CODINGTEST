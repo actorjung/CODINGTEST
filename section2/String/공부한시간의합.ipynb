{
 "cells": [
  {
   "cell_type": "code",
   "execution_count": 2,
   "metadata": {},
   "outputs": [
    {
     "name": "stdout",
     "output_type": "stream",
     "text": [
      "02:00\n"
     ]
    }
   ],
   "source": [
    "def parse_log(s):\n",
    "    return int(s[0:2])*60 + int(s[3:5])\n",
    "\n",
    "def solution(A):\n",
    "\n",
    "    total_time = 0\n",
    "\n",
    "    for t in map(parse_log,A):\n",
    "        total_time += t\n",
    "\n",
    "    hour = total_time // 60\n",
    "    min = total_time % 60\n",
    "\n",
    "    ret = ''\n",
    "    if hour < 100:\n",
    "        ret = '%02d:%02d'%(hour,min)\n",
    "    else :\n",
    "        ret = '%d:%02d'%(hour,min)\n",
    "\n",
    "    return ret\n",
    "\n",
    "A =list(input().split())\n",
    "print(solution(A))\n",
    "    \n",
    "\n"
   ]
  },
  {
   "cell_type": "code",
   "execution_count": null,
   "metadata": {},
   "outputs": [],
   "source": []
  }
 ],
 "metadata": {
  "kernelspec": {
   "display_name": "Python 3",
   "language": "python",
   "name": "python3"
  },
  "language_info": {
   "codemirror_mode": {
    "name": "ipython",
    "version": 3
   },
   "file_extension": ".py",
   "mimetype": "text/x-python",
   "name": "python",
   "nbconvert_exporter": "python",
   "pygments_lexer": "ipython3",
   "version": "3.11.4"
  },
  "orig_nbformat": 4
 },
 "nbformat": 4,
 "nbformat_minor": 2
}
