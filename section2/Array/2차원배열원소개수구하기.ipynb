{
 "cells": [
  {
   "cell_type": "code",
   "execution_count": 2,
   "metadata": {},
   "outputs": [
    {
     "name": "stdout",
     "output_type": "stream",
     "text": [
      "0\n"
     ]
    }
   ],
   "source": [
    "def solution(n,A,k):\n",
    "    answer = 0\n",
    "    for i in range(n):\n",
    "        for j in range(n):\n",
    "            if A[i][j] == k:\n",
    "                answer += 1\n",
    "    return answer\n",
    "\n",
    "n,k = map(int,input().split())\n",
    "A = list(list(map(int,input().split())) for _ in range(n))\n",
    "print(solution(n,A,k))"
   ]
  },
  {
   "cell_type": "code",
   "execution_count": null,
   "metadata": {},
   "outputs": [],
   "source": []
  }
 ],
 "metadata": {
  "kernelspec": {
   "display_name": "Python 3",
   "language": "python",
   "name": "python3"
  },
  "language_info": {
   "codemirror_mode": {
    "name": "ipython",
    "version": 3
   },
   "file_extension": ".py",
   "mimetype": "text/x-python",
   "name": "python",
   "nbconvert_exporter": "python",
   "pygments_lexer": "ipython3",
   "version": "3.11.4"
  },
  "orig_nbformat": 4
 },
 "nbformat": 4,
 "nbformat_minor": 2
}
