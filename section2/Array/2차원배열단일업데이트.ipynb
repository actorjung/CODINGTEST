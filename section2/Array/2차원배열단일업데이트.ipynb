{
 "cells": [
  {
   "cell_type": "code",
   "execution_count": 5,
   "metadata": {},
   "outputs": [
    {
     "name": "stdout",
     "output_type": "stream",
     "text": [
      "20\n"
     ]
    }
   ],
   "source": [
    "def solution(n,A,i1,j1,i2,j2,k):\n",
    "    for i in range(i1,i2+1):\n",
    "        for j in range(j1,j2+1):\n",
    "            A[i][j] = A[i][j]*k\n",
    "    \n",
    "    answer = 0\n",
    "    for i in range(n):\n",
    "        answer += sum(A[i])\n",
    "\n",
    "    return answer\n",
    "\n",
    "n = int(input())\n",
    "A = list(list(map(int,input().split())) for _ in range(n))\n",
    "i1,j1,i2,j2,k = map(int,input().split())\n",
    "\n",
    "print(solution(n,A,i1,j1,i2,j2,k))"
   ]
  },
  {
   "cell_type": "code",
   "execution_count": null,
   "metadata": {},
   "outputs": [],
   "source": []
  }
 ],
 "metadata": {
  "kernelspec": {
   "display_name": "Python 3",
   "language": "python",
   "name": "python3"
  },
  "language_info": {
   "codemirror_mode": {
    "name": "ipython",
    "version": 3
   },
   "file_extension": ".py",
   "mimetype": "text/x-python",
   "name": "python",
   "nbconvert_exporter": "python",
   "pygments_lexer": "ipython3",
   "version": "3.11.4"
  },
  "orig_nbformat": 4
 },
 "nbformat": 4,
 "nbformat_minor": 2
}
