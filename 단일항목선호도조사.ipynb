{
 "cells": [
  {
   "cell_type": "code",
   "execution_count": 4,
   "metadata": {},
   "outputs": [
    {
     "name": "stdout",
     "output_type": "stream",
     "text": [
      "2\n",
      "2\n",
      "1\n",
      "5\n"
     ]
    }
   ],
   "source": [
    "def solution(n,m,A,B):\n",
    "    answer = []\n",
    "    for b in B:\n",
    "        if b == '-':\n",
    "            answer.append(n)\n",
    "        else:\n",
    "            cnt = 0\n",
    "            for a in A:\n",
    "                if b == a:\n",
    "                    cnt +=1\n",
    "            answer.append(cnt)\n",
    "\n",
    "    return answer \n",
    "\n",
    "n, m = map(int, input().split())\n",
    "A = list(input().split())\n",
    "B = list(input() for _ in range(m))\n",
    "\n",
    "C = solution(n,m,A,B)\n",
    "\n",
    "for c in C:\n",
    "    print(c)\n"
   ]
  },
  {
   "cell_type": "code",
   "execution_count": null,
   "metadata": {},
   "outputs": [],
   "source": []
  }
 ],
 "metadata": {
  "kernelspec": {
   "display_name": "Python 3",
   "language": "python",
   "name": "python3"
  },
  "language_info": {
   "codemirror_mode": {
    "name": "ipython",
    "version": 3
   },
   "file_extension": ".py",
   "mimetype": "text/x-python",
   "name": "python",
   "nbconvert_exporter": "python",
   "pygments_lexer": "ipython3",
   "version": "3.11.4"
  },
  "orig_nbformat": 4
 },
 "nbformat": 4,
 "nbformat_minor": 2
}
